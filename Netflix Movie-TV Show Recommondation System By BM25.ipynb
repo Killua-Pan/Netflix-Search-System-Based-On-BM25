{
 "cells": [
  {
   "cell_type": "code",
   "execution_count": 1,
   "id": "7076e59e",
   "metadata": {},
   "outputs": [
    {
     "name": "stdout",
     "output_type": "stream",
     "text": [
      "Requirement already satisfied: nltk in /Users/peter/miniforge3/lib/python3.9/site-packages (3.7)\r\n",
      "Requirement already satisfied: click in /Users/peter/miniforge3/lib/python3.9/site-packages (from nltk) (8.1.2)\r\n",
      "Requirement already satisfied: regex>=2021.8.3 in /Users/peter/miniforge3/lib/python3.9/site-packages (from nltk) (2022.3.15)\r\n",
      "Requirement already satisfied: tqdm in /Users/peter/miniforge3/lib/python3.9/site-packages (from nltk) (4.63.0)\r\n",
      "Requirement already satisfied: joblib in /Users/peter/miniforge3/lib/python3.9/site-packages (from nltk) (1.1.0)\r\n"
     ]
    }
   ],
   "source": [
    "import pandas as pd\n",
    "import numpy as np\n",
    "!pip install nltk\n",
    "import nltk\n",
    "from nltk.corpus import stopwords\n",
    "from nltk.stem import WordNetLemmatizer\n",
    "from nltk.stem.porter import PorterStemmer\n",
    "from nltk.tokenize import word_tokenize\n",
    "from IPython.display import display"
   ]
  },
  {
   "cell_type": "code",
   "execution_count": 2,
   "id": "f7865264",
   "metadata": {},
   "outputs": [
    {
     "name": "stderr",
     "output_type": "stream",
     "text": [
      "[nltk_data] Downloading package stopwords to /Users/peter/nltk_data...\n",
      "[nltk_data]   Package stopwords is already up-to-date!\n",
      "[nltk_data] Downloading package wordnet to /Users/peter/nltk_data...\n",
      "[nltk_data]   Package wordnet is already up-to-date!\n",
      "[nltk_data] Downloading package punkt to /Users/peter/nltk_data...\n",
      "[nltk_data]   Package punkt is already up-to-date!\n"
     ]
    },
    {
     "data": {
      "text/plain": [
       "True"
      ]
     },
     "execution_count": 2,
     "metadata": {},
     "output_type": "execute_result"
    }
   ],
   "source": [
    "nltk.download('stopwords')\n",
    "nltk.download('wordnet')\n",
    "nltk.download('punkt')"
   ]
  },
  {
   "cell_type": "markdown",
   "id": "1e95e920",
   "metadata": {},
   "source": [
    "# Data Cleaning Step "
   ]
  },
  {
   "cell_type": "markdown",
   "id": "fc349a19",
   "metadata": {},
   "source": [
    "## Import Data"
   ]
  },
  {
   "cell_type": "code",
   "execution_count": 3,
   "id": "17ce87ea",
   "metadata": {},
   "outputs": [
    {
     "name": "stdout",
     "output_type": "stream",
     "text": [
      "(8807, 12)\n"
     ]
    },
    {
     "data": {
      "text/html": [
       "<div>\n",
       "<style scoped>\n",
       "    .dataframe tbody tr th:only-of-type {\n",
       "        vertical-align: middle;\n",
       "    }\n",
       "\n",
       "    .dataframe tbody tr th {\n",
       "        vertical-align: top;\n",
       "    }\n",
       "\n",
       "    .dataframe thead th {\n",
       "        text-align: right;\n",
       "    }\n",
       "</style>\n",
       "<table border=\"1\" class=\"dataframe\">\n",
       "  <thead>\n",
       "    <tr style=\"text-align: right;\">\n",
       "      <th></th>\n",
       "      <th>show_id</th>\n",
       "      <th>type</th>\n",
       "      <th>title</th>\n",
       "      <th>director</th>\n",
       "      <th>cast</th>\n",
       "      <th>country</th>\n",
       "      <th>date_added</th>\n",
       "      <th>release_year</th>\n",
       "      <th>rating</th>\n",
       "      <th>duration</th>\n",
       "      <th>listed_in</th>\n",
       "      <th>description</th>\n",
       "    </tr>\n",
       "  </thead>\n",
       "  <tbody>\n",
       "    <tr>\n",
       "      <th>0</th>\n",
       "      <td>s1</td>\n",
       "      <td>Movie</td>\n",
       "      <td>Dick Johnson Is Dead</td>\n",
       "      <td>Kirsten Johnson</td>\n",
       "      <td>NaN</td>\n",
       "      <td>United States</td>\n",
       "      <td>September 25, 2021</td>\n",
       "      <td>2020</td>\n",
       "      <td>PG-13</td>\n",
       "      <td>90 min</td>\n",
       "      <td>Documentaries</td>\n",
       "      <td>As her father nears the end of his life, filmm...</td>\n",
       "    </tr>\n",
       "    <tr>\n",
       "      <th>1</th>\n",
       "      <td>s2</td>\n",
       "      <td>TV Show</td>\n",
       "      <td>Blood &amp; Water</td>\n",
       "      <td>NaN</td>\n",
       "      <td>Ama Qamata, Khosi Ngema, Gail Mabalane, Thaban...</td>\n",
       "      <td>South Africa</td>\n",
       "      <td>September 24, 2021</td>\n",
       "      <td>2021</td>\n",
       "      <td>TV-MA</td>\n",
       "      <td>2 Seasons</td>\n",
       "      <td>International TV Shows, TV Dramas, TV Mysteries</td>\n",
       "      <td>After crossing paths at a party, a Cape Town t...</td>\n",
       "    </tr>\n",
       "    <tr>\n",
       "      <th>2</th>\n",
       "      <td>s3</td>\n",
       "      <td>TV Show</td>\n",
       "      <td>Ganglands</td>\n",
       "      <td>Julien Leclercq</td>\n",
       "      <td>Sami Bouajila, Tracy Gotoas, Samuel Jouy, Nabi...</td>\n",
       "      <td>NaN</td>\n",
       "      <td>September 24, 2021</td>\n",
       "      <td>2021</td>\n",
       "      <td>TV-MA</td>\n",
       "      <td>1 Season</td>\n",
       "      <td>Crime TV Shows, International TV Shows, TV Act...</td>\n",
       "      <td>To protect his family from a powerful drug lor...</td>\n",
       "    </tr>\n",
       "    <tr>\n",
       "      <th>3</th>\n",
       "      <td>s4</td>\n",
       "      <td>TV Show</td>\n",
       "      <td>Jailbirds New Orleans</td>\n",
       "      <td>NaN</td>\n",
       "      <td>NaN</td>\n",
       "      <td>NaN</td>\n",
       "      <td>September 24, 2021</td>\n",
       "      <td>2021</td>\n",
       "      <td>TV-MA</td>\n",
       "      <td>1 Season</td>\n",
       "      <td>Docuseries, Reality TV</td>\n",
       "      <td>Feuds, flirtations and toilet talk go down amo...</td>\n",
       "    </tr>\n",
       "    <tr>\n",
       "      <th>4</th>\n",
       "      <td>s5</td>\n",
       "      <td>TV Show</td>\n",
       "      <td>Kota Factory</td>\n",
       "      <td>NaN</td>\n",
       "      <td>Mayur More, Jitendra Kumar, Ranjan Raj, Alam K...</td>\n",
       "      <td>India</td>\n",
       "      <td>September 24, 2021</td>\n",
       "      <td>2021</td>\n",
       "      <td>TV-MA</td>\n",
       "      <td>2 Seasons</td>\n",
       "      <td>International TV Shows, Romantic TV Shows, TV ...</td>\n",
       "      <td>In a city of coaching centers known to train I...</td>\n",
       "    </tr>\n",
       "  </tbody>\n",
       "</table>\n",
       "</div>"
      ],
      "text/plain": [
       "  show_id     type                  title         director  \\\n",
       "0      s1    Movie   Dick Johnson Is Dead  Kirsten Johnson   \n",
       "1      s2  TV Show          Blood & Water              NaN   \n",
       "2      s3  TV Show              Ganglands  Julien Leclercq   \n",
       "3      s4  TV Show  Jailbirds New Orleans              NaN   \n",
       "4      s5  TV Show           Kota Factory              NaN   \n",
       "\n",
       "                                                cast        country  \\\n",
       "0                                                NaN  United States   \n",
       "1  Ama Qamata, Khosi Ngema, Gail Mabalane, Thaban...   South Africa   \n",
       "2  Sami Bouajila, Tracy Gotoas, Samuel Jouy, Nabi...            NaN   \n",
       "3                                                NaN            NaN   \n",
       "4  Mayur More, Jitendra Kumar, Ranjan Raj, Alam K...          India   \n",
       "\n",
       "           date_added  release_year rating   duration  \\\n",
       "0  September 25, 2021          2020  PG-13     90 min   \n",
       "1  September 24, 2021          2021  TV-MA  2 Seasons   \n",
       "2  September 24, 2021          2021  TV-MA   1 Season   \n",
       "3  September 24, 2021          2021  TV-MA   1 Season   \n",
       "4  September 24, 2021          2021  TV-MA  2 Seasons   \n",
       "\n",
       "                                           listed_in  \\\n",
       "0                                      Documentaries   \n",
       "1    International TV Shows, TV Dramas, TV Mysteries   \n",
       "2  Crime TV Shows, International TV Shows, TV Act...   \n",
       "3                             Docuseries, Reality TV   \n",
       "4  International TV Shows, Romantic TV Shows, TV ...   \n",
       "\n",
       "                                         description  \n",
       "0  As her father nears the end of his life, filmm...  \n",
       "1  After crossing paths at a party, a Cape Town t...  \n",
       "2  To protect his family from a powerful drug lor...  \n",
       "3  Feuds, flirtations and toilet talk go down amo...  \n",
       "4  In a city of coaching centers known to train I...  "
      ]
     },
     "execution_count": 3,
     "metadata": {},
     "output_type": "execute_result"
    }
   ],
   "source": [
    "dataset = pd.read_csv('netflix_titles.csv')\n",
    "print(dataset.shape)\n",
    "dataset.head()"
   ]
  },
  {
   "cell_type": "markdown",
   "id": "82dcfa85",
   "metadata": {},
   "source": [
    "\n",
    "\n",
    "## Drop unnecessary column"
   ]
  },
  {
   "cell_type": "code",
   "execution_count": 4,
   "id": "fb7bd033",
   "metadata": {},
   "outputs": [
    {
     "data": {
      "text/html": [
       "<div>\n",
       "<style scoped>\n",
       "    .dataframe tbody tr th:only-of-type {\n",
       "        vertical-align: middle;\n",
       "    }\n",
       "\n",
       "    .dataframe tbody tr th {\n",
       "        vertical-align: top;\n",
       "    }\n",
       "\n",
       "    .dataframe thead th {\n",
       "        text-align: right;\n",
       "    }\n",
       "</style>\n",
       "<table border=\"1\" class=\"dataframe\">\n",
       "  <thead>\n",
       "    <tr style=\"text-align: right;\">\n",
       "      <th></th>\n",
       "      <th>title</th>\n",
       "      <th>director</th>\n",
       "      <th>country</th>\n",
       "      <th>release_year</th>\n",
       "      <th>description</th>\n",
       "    </tr>\n",
       "  </thead>\n",
       "  <tbody>\n",
       "    <tr>\n",
       "      <th>0</th>\n",
       "      <td>Dick Johnson Is Dead</td>\n",
       "      <td>Kirsten Johnson</td>\n",
       "      <td>United States</td>\n",
       "      <td>2020</td>\n",
       "      <td>As her father nears the end of his life, filmm...</td>\n",
       "    </tr>\n",
       "    <tr>\n",
       "      <th>1</th>\n",
       "      <td>Blood &amp; Water</td>\n",
       "      <td>NaN</td>\n",
       "      <td>South Africa</td>\n",
       "      <td>2021</td>\n",
       "      <td>After crossing paths at a party, a Cape Town t...</td>\n",
       "    </tr>\n",
       "    <tr>\n",
       "      <th>2</th>\n",
       "      <td>Ganglands</td>\n",
       "      <td>Julien Leclercq</td>\n",
       "      <td>NaN</td>\n",
       "      <td>2021</td>\n",
       "      <td>To protect his family from a powerful drug lor...</td>\n",
       "    </tr>\n",
       "    <tr>\n",
       "      <th>3</th>\n",
       "      <td>Jailbirds New Orleans</td>\n",
       "      <td>NaN</td>\n",
       "      <td>NaN</td>\n",
       "      <td>2021</td>\n",
       "      <td>Feuds, flirtations and toilet talk go down amo...</td>\n",
       "    </tr>\n",
       "    <tr>\n",
       "      <th>4</th>\n",
       "      <td>Kota Factory</td>\n",
       "      <td>NaN</td>\n",
       "      <td>India</td>\n",
       "      <td>2021</td>\n",
       "      <td>In a city of coaching centers known to train I...</td>\n",
       "    </tr>\n",
       "  </tbody>\n",
       "</table>\n",
       "</div>"
      ],
      "text/plain": [
       "                   title         director        country  release_year  \\\n",
       "0   Dick Johnson Is Dead  Kirsten Johnson  United States          2020   \n",
       "1          Blood & Water              NaN   South Africa          2021   \n",
       "2              Ganglands  Julien Leclercq            NaN          2021   \n",
       "3  Jailbirds New Orleans              NaN            NaN          2021   \n",
       "4           Kota Factory              NaN          India          2021   \n",
       "\n",
       "                                         description  \n",
       "0  As her father nears the end of his life, filmm...  \n",
       "1  After crossing paths at a party, a Cape Town t...  \n",
       "2  To protect his family from a powerful drug lor...  \n",
       "3  Feuds, flirtations and toilet talk go down amo...  \n",
       "4  In a city of coaching centers known to train I...  "
      ]
     },
     "execution_count": 4,
     "metadata": {},
     "output_type": "execute_result"
    }
   ],
   "source": [
    "dataset_clean = dataset.drop(['show_id','type','cast','date_added','rating','duration','listed_in'], axis=1)\n",
    "dataset_clean.head()"
   ]
  },
  {
   "cell_type": "markdown",
   "id": "7aa784dc",
   "metadata": {},
   "source": [
    "## Fill NaN"
   ]
  },
  {
   "cell_type": "code",
   "execution_count": 5,
   "id": "01e6fd1d",
   "metadata": {},
   "outputs": [
    {
     "data": {
      "text/html": [
       "<div>\n",
       "<style scoped>\n",
       "    .dataframe tbody tr th:only-of-type {\n",
       "        vertical-align: middle;\n",
       "    }\n",
       "\n",
       "    .dataframe tbody tr th {\n",
       "        vertical-align: top;\n",
       "    }\n",
       "\n",
       "    .dataframe thead th {\n",
       "        text-align: right;\n",
       "    }\n",
       "</style>\n",
       "<table border=\"1\" class=\"dataframe\">\n",
       "  <thead>\n",
       "    <tr style=\"text-align: right;\">\n",
       "      <th></th>\n",
       "      <th>title</th>\n",
       "      <th>director</th>\n",
       "      <th>country</th>\n",
       "      <th>release_year</th>\n",
       "      <th>description</th>\n",
       "    </tr>\n",
       "  </thead>\n",
       "  <tbody>\n",
       "    <tr>\n",
       "      <th>0</th>\n",
       "      <td>Dick Johnson Is Dead</td>\n",
       "      <td>Kirsten Johnson</td>\n",
       "      <td>United States</td>\n",
       "      <td>2020</td>\n",
       "      <td>As her father nears the end of his life, filmm...</td>\n",
       "    </tr>\n",
       "    <tr>\n",
       "      <th>1</th>\n",
       "      <td>Blood &amp; Water</td>\n",
       "      <td>Unknown</td>\n",
       "      <td>South Africa</td>\n",
       "      <td>2021</td>\n",
       "      <td>After crossing paths at a party, a Cape Town t...</td>\n",
       "    </tr>\n",
       "    <tr>\n",
       "      <th>2</th>\n",
       "      <td>Ganglands</td>\n",
       "      <td>Julien Leclercq</td>\n",
       "      <td>Unknown</td>\n",
       "      <td>2021</td>\n",
       "      <td>To protect his family from a powerful drug lor...</td>\n",
       "    </tr>\n",
       "    <tr>\n",
       "      <th>3</th>\n",
       "      <td>Jailbirds New Orleans</td>\n",
       "      <td>Unknown</td>\n",
       "      <td>Unknown</td>\n",
       "      <td>2021</td>\n",
       "      <td>Feuds, flirtations and toilet talk go down amo...</td>\n",
       "    </tr>\n",
       "    <tr>\n",
       "      <th>4</th>\n",
       "      <td>Kota Factory</td>\n",
       "      <td>Unknown</td>\n",
       "      <td>India</td>\n",
       "      <td>2021</td>\n",
       "      <td>In a city of coaching centers known to train I...</td>\n",
       "    </tr>\n",
       "  </tbody>\n",
       "</table>\n",
       "</div>"
      ],
      "text/plain": [
       "                   title         director        country  release_year  \\\n",
       "0   Dick Johnson Is Dead  Kirsten Johnson  United States          2020   \n",
       "1          Blood & Water          Unknown   South Africa          2021   \n",
       "2              Ganglands  Julien Leclercq        Unknown          2021   \n",
       "3  Jailbirds New Orleans          Unknown        Unknown          2021   \n",
       "4           Kota Factory          Unknown          India          2021   \n",
       "\n",
       "                                         description  \n",
       "0  As her father nears the end of his life, filmm...  \n",
       "1  After crossing paths at a party, a Cape Town t...  \n",
       "2  To protect his family from a powerful drug lor...  \n",
       "3  Feuds, flirtations and toilet talk go down amo...  \n",
       "4  In a city of coaching centers known to train I...  "
      ]
     },
     "execution_count": 5,
     "metadata": {},
     "output_type": "execute_result"
    }
   ],
   "source": [
    "# We fill the missing value with 'unknown'\n",
    "dataset_clean = dataset_clean.fillna('Unknown')\n",
    "dataset_clean.head() # we could see the country has been filled by Unknown"
   ]
  },
  {
   "cell_type": "markdown",
   "id": "86599745",
   "metadata": {},
   "source": [
    "## Remove stop word in description"
   ]
  },
  {
   "cell_type": "code",
   "execution_count": 6,
   "id": "160ea47b",
   "metadata": {},
   "outputs": [
    {
     "data": {
      "text/plain": [
       "0    As father nears end life, filmmaker Kirsten Jo...\n",
       "1    After crossing paths party, Cape Town teen set...\n",
       "2    To protect family powerful drug lord, skilled ...\n",
       "3    Feuds, flirtations toilet talk go among incarc...\n",
       "4    In city coaching centers known train India’s f...\n",
       "Name: description, dtype: object"
      ]
     },
     "execution_count": 6,
     "metadata": {},
     "output_type": "execute_result"
    }
   ],
   "source": [
    "stop_words = stopwords.words('english')\n",
    "dataset_clean['description'] = dataset_clean['description'].apply(lambda x: ' '.join([word for word in x.split() if word not in (stop_words)]))\n",
    "dataset_clean['description'].head() # we could see that the stopwords has been removed in description."
   ]
  },
  {
   "cell_type": "markdown",
   "id": "3df8c66f",
   "metadata": {},
   "source": [
    "## Lemmatize the word in description"
   ]
  },
  {
   "cell_type": "code",
   "execution_count": 7,
   "id": "cab533a6",
   "metadata": {},
   "outputs": [
    {
     "data": {
      "text/plain": [
       "0    As father near end life, filmmaker Kirsten Joh...\n",
       "1    After cross paths party, Cape Town teen set pr...\n",
       "2    To protect family powerful drug lord, skilled ...\n",
       "3    Feuds, flirtations toilet talk go among incarc...\n",
       "4    In city coach center know train India’s finest...\n",
       "Name: description, dtype: object"
      ]
     },
     "execution_count": 7,
     "metadata": {},
     "output_type": "execute_result"
    }
   ],
   "source": [
    "lemmatizer = WordNetLemmatizer()\n",
    "def lemmatize_words(text):\n",
    "    words = text.split()\n",
    "    words = [lemmatizer.lemmatize(word,pos='v') for word in words]\n",
    "    return ' '.join(words)\n",
    "dataset_clean['description'] = dataset_clean['description'].apply(lemmatize_words)\n",
    "dataset_clean['description'].head()\n",
    "# we could see the second line crossing is lemmatized to cross, this could increase the accuracy of searching"
   ]
  },
  {
   "cell_type": "markdown",
   "id": "3112119d",
   "metadata": {},
   "source": [
    "## Convert description into lower case"
   ]
  },
  {
   "cell_type": "code",
   "execution_count": 8,
   "id": "1d48874f",
   "metadata": {},
   "outputs": [
    {
     "data": {
      "text/html": [
       "<div>\n",
       "<style scoped>\n",
       "    .dataframe tbody tr th:only-of-type {\n",
       "        vertical-align: middle;\n",
       "    }\n",
       "\n",
       "    .dataframe tbody tr th {\n",
       "        vertical-align: top;\n",
       "    }\n",
       "\n",
       "    .dataframe thead th {\n",
       "        text-align: right;\n",
       "    }\n",
       "</style>\n",
       "<table border=\"1\" class=\"dataframe\">\n",
       "  <thead>\n",
       "    <tr style=\"text-align: right;\">\n",
       "      <th></th>\n",
       "      <th>title</th>\n",
       "      <th>director</th>\n",
       "      <th>country</th>\n",
       "      <th>release_year</th>\n",
       "      <th>description</th>\n",
       "    </tr>\n",
       "  </thead>\n",
       "  <tbody>\n",
       "    <tr>\n",
       "      <th>0</th>\n",
       "      <td>Dick Johnson Is Dead</td>\n",
       "      <td>Kirsten Johnson</td>\n",
       "      <td>United States</td>\n",
       "      <td>2020</td>\n",
       "      <td>as father near end life, filmmaker kirsten joh...</td>\n",
       "    </tr>\n",
       "    <tr>\n",
       "      <th>1</th>\n",
       "      <td>Blood &amp; Water</td>\n",
       "      <td>Unknown</td>\n",
       "      <td>South Africa</td>\n",
       "      <td>2021</td>\n",
       "      <td>after cross paths party, cape town teen set pr...</td>\n",
       "    </tr>\n",
       "    <tr>\n",
       "      <th>2</th>\n",
       "      <td>Ganglands</td>\n",
       "      <td>Julien Leclercq</td>\n",
       "      <td>Unknown</td>\n",
       "      <td>2021</td>\n",
       "      <td>to protect family powerful drug lord, skilled ...</td>\n",
       "    </tr>\n",
       "    <tr>\n",
       "      <th>3</th>\n",
       "      <td>Jailbirds New Orleans</td>\n",
       "      <td>Unknown</td>\n",
       "      <td>Unknown</td>\n",
       "      <td>2021</td>\n",
       "      <td>feuds, flirtations toilet talk go among incarc...</td>\n",
       "    </tr>\n",
       "    <tr>\n",
       "      <th>4</th>\n",
       "      <td>Kota Factory</td>\n",
       "      <td>Unknown</td>\n",
       "      <td>India</td>\n",
       "      <td>2021</td>\n",
       "      <td>in city coach center know train india’s finest...</td>\n",
       "    </tr>\n",
       "  </tbody>\n",
       "</table>\n",
       "</div>"
      ],
      "text/plain": [
       "                   title         director        country  release_year  \\\n",
       "0   Dick Johnson Is Dead  Kirsten Johnson  United States          2020   \n",
       "1          Blood & Water          Unknown   South Africa          2021   \n",
       "2              Ganglands  Julien Leclercq        Unknown          2021   \n",
       "3  Jailbirds New Orleans          Unknown        Unknown          2021   \n",
       "4           Kota Factory          Unknown          India          2021   \n",
       "\n",
       "                                         description  \n",
       "0  as father near end life, filmmaker kirsten joh...  \n",
       "1  after cross paths party, cape town teen set pr...  \n",
       "2  to protect family powerful drug lord, skilled ...  \n",
       "3  feuds, flirtations toilet talk go among incarc...  \n",
       "4  in city coach center know train india’s finest...  "
      ]
     },
     "execution_count": 8,
     "metadata": {},
     "output_type": "execute_result"
    }
   ],
   "source": [
    "dataset_clean['description'] = dataset_clean['description'].apply(lambda x: x.lower() if type(x) == str else x)\n",
    "dataset_clean.head()"
   ]
  },
  {
   "cell_type": "markdown",
   "id": "8acd0e26",
   "metadata": {},
   "source": [
    "# Index Part"
   ]
  },
  {
   "cell_type": "markdown",
   "id": "42c6e387",
   "metadata": {},
   "source": [
    "## Inport tools from sklearn "
   ]
  },
  {
   "cell_type": "code",
   "execution_count": 9,
   "id": "b48f5b8b",
   "metadata": {},
   "outputs": [
    {
     "name": "stdout",
     "output_type": "stream",
     "text": [
      "Requirement already satisfied: sklearn in /Users/peter/miniforge3/lib/python3.9/site-packages (0.0)\r\n",
      "Requirement already satisfied: scikit-learn in /Users/peter/miniforge3/lib/python3.9/site-packages (from sklearn) (1.0.2)\r\n",
      "Requirement already satisfied: joblib>=0.11 in /Users/peter/miniforge3/lib/python3.9/site-packages (from scikit-learn->sklearn) (1.1.0)\r\n",
      "Requirement already satisfied: numpy>=1.14.6 in /Users/peter/miniforge3/lib/python3.9/site-packages (from scikit-learn->sklearn) (1.22.3)\r\n",
      "Requirement already satisfied: scipy>=1.1.0 in /Users/peter/miniforge3/lib/python3.9/site-packages (from scikit-learn->sklearn) (1.8.0)\r\n",
      "Requirement already satisfied: threadpoolctl>=2.0.0 in /Users/peter/miniforge3/lib/python3.9/site-packages (from scikit-learn->sklearn) (3.1.0)\r\n"
     ]
    }
   ],
   "source": [
    "!pip install sklearn\n",
    "from sklearn.feature_extraction.text import CountVectorizer"
   ]
  },
  {
   "cell_type": "code",
   "execution_count": 10,
   "id": "5816b0fa",
   "metadata": {},
   "outputs": [],
   "source": [
    "vectorizer = CountVectorizer()"
   ]
  },
  {
   "cell_type": "markdown",
   "id": "92817721",
   "metadata": {},
   "source": [
    "## Get description in csv column into document list"
   ]
  },
  {
   "cell_type": "code",
   "execution_count": 11,
   "id": "7c28c877",
   "metadata": {},
   "outputs": [
    {
     "data": {
      "text/plain": [
       "array(['as father near end life, filmmaker kirsten johnson stag death inventive comical ways help face inevitable.',\n",
       "       'after cross paths party, cape town teen set prove whether private-school swim star sister abduct birth.',\n",
       "       'to protect family powerful drug lord, skilled thief mehdi expert team robbers pull violent deadly turf war.',\n",
       "       'feuds, flirtations toilet talk go among incarcerate women orleans justice center new orleans gritty reality series.',\n",
       "       'in city coach center know train india’s finest collegiate minds, earnest unexceptional student friends navigate campus life.',\n",
       "       'the arrival charismatic young priest bring glorious miracles, ominous mysteries renew religious fervor die town desperate believe.',\n",
       "       \"equestria's divided. but bright-eyed hero believe earth ponies, pegasi unicorns pal — and, hoof heart, she’s determine prove it.\",\n",
       "       'on photo shoot ghana, american model slip back time, become enslave plantation bear witness agony ancestral past.',\n",
       "       \"a talented batch amateur bakers face 10-week competition, whip best dish hop name u.k.'s best.\",\n",
       "       \"a woman adjust life loss contend feisty bird that's take garden — husband who's struggle find way forward.\"],\n",
       "      dtype=object)"
      ]
     },
     "execution_count": 11,
     "metadata": {},
     "output_type": "execute_result"
    }
   ],
   "source": [
    "documents = dataset_clean['description'].to_numpy()\n",
    "documents[:10]"
   ]
  },
  {
   "cell_type": "markdown",
   "id": "baf6dfee",
   "metadata": {},
   "source": [
    "## Get vocabulary list"
   ]
  },
  {
   "cell_type": "code",
   "execution_count": 12,
   "id": "44746c8a",
   "metadata": {},
   "outputs": [],
   "source": [
    "documents_vectorized = vectorizer.fit_transform(documents)\n",
    "vocabulary = vectorizer.get_feature_names_out()"
   ]
  },
  {
   "cell_type": "code",
   "execution_count": 13,
   "id": "d61b6510",
   "metadata": {},
   "outputs": [
    {
     "data": {
      "text/plain": [
       "array(['000', '007', '009', ..., 'łukasz', 'ōarai', 'şeref'], dtype=object)"
      ]
     },
     "execution_count": 13,
     "metadata": {},
     "output_type": "execute_result"
    }
   ],
   "source": [
    "vocabulary"
   ]
  },
  {
   "cell_type": "code",
   "execution_count": 14,
   "id": "0b514cf0",
   "metadata": {},
   "outputs": [
    {
     "name": "stdout",
     "output_type": "stream",
     "text": [
      "We have a 8807 movies with a 17441 term vocabulary\n"
     ]
    }
   ],
   "source": [
    "print ('We have a {} movies with a {} term vocabulary'.format(*documents_vectorized.shape))"
   ]
  },
  {
   "cell_type": "markdown",
   "id": "38378f9e",
   "metadata": {},
   "source": [
    "## Term Frequency Matrix"
   ]
  },
  {
   "cell_type": "code",
   "execution_count": 15,
   "id": "bac77b6c",
   "metadata": {},
   "outputs": [
    {
     "name": "stdout",
     "output_type": "stream",
     "text": [
      "The shape of the term frequency matrix is (8807, 17441)\n",
      "Which means it contains 8807 movies with 17441 term vocabulary\n"
     ]
    },
    {
     "data": {
      "text/html": [
       "<div>\n",
       "<style scoped>\n",
       "    .dataframe tbody tr th:only-of-type {\n",
       "        vertical-align: middle;\n",
       "    }\n",
       "\n",
       "    .dataframe tbody tr th {\n",
       "        vertical-align: top;\n",
       "    }\n",
       "\n",
       "    .dataframe thead th {\n",
       "        text-align: right;\n",
       "    }\n",
       "</style>\n",
       "<table border=\"1\" class=\"dataframe\">\n",
       "  <thead>\n",
       "    <tr style=\"text-align: right;\">\n",
       "      <th></th>\n",
       "      <th>000</th>\n",
       "      <th>007</th>\n",
       "      <th>009</th>\n",
       "      <th>10</th>\n",
       "      <th>100</th>\n",
       "      <th>1000</th>\n",
       "      <th>102</th>\n",
       "      <th>108</th>\n",
       "      <th>10th</th>\n",
       "      <th>11</th>\n",
       "      <th>...</th>\n",
       "      <th>zé</th>\n",
       "      <th>álex</th>\n",
       "      <th>álvaro</th>\n",
       "      <th>ángel</th>\n",
       "      <th>émile</th>\n",
       "      <th>ömer</th>\n",
       "      <th>über</th>\n",
       "      <th>łukasz</th>\n",
       "      <th>ōarai</th>\n",
       "      <th>şeref</th>\n",
       "    </tr>\n",
       "  </thead>\n",
       "  <tbody>\n",
       "    <tr>\n",
       "      <th>0</th>\n",
       "      <td>0</td>\n",
       "      <td>0</td>\n",
       "      <td>0</td>\n",
       "      <td>0</td>\n",
       "      <td>0</td>\n",
       "      <td>0</td>\n",
       "      <td>0</td>\n",
       "      <td>0</td>\n",
       "      <td>0</td>\n",
       "      <td>0</td>\n",
       "      <td>...</td>\n",
       "      <td>0</td>\n",
       "      <td>0</td>\n",
       "      <td>0</td>\n",
       "      <td>0</td>\n",
       "      <td>0</td>\n",
       "      <td>0</td>\n",
       "      <td>0</td>\n",
       "      <td>0</td>\n",
       "      <td>0</td>\n",
       "      <td>0</td>\n",
       "    </tr>\n",
       "    <tr>\n",
       "      <th>1</th>\n",
       "      <td>0</td>\n",
       "      <td>0</td>\n",
       "      <td>0</td>\n",
       "      <td>0</td>\n",
       "      <td>0</td>\n",
       "      <td>0</td>\n",
       "      <td>0</td>\n",
       "      <td>0</td>\n",
       "      <td>0</td>\n",
       "      <td>0</td>\n",
       "      <td>...</td>\n",
       "      <td>0</td>\n",
       "      <td>0</td>\n",
       "      <td>0</td>\n",
       "      <td>0</td>\n",
       "      <td>0</td>\n",
       "      <td>0</td>\n",
       "      <td>0</td>\n",
       "      <td>0</td>\n",
       "      <td>0</td>\n",
       "      <td>0</td>\n",
       "    </tr>\n",
       "    <tr>\n",
       "      <th>2</th>\n",
       "      <td>0</td>\n",
       "      <td>0</td>\n",
       "      <td>0</td>\n",
       "      <td>0</td>\n",
       "      <td>0</td>\n",
       "      <td>0</td>\n",
       "      <td>0</td>\n",
       "      <td>0</td>\n",
       "      <td>0</td>\n",
       "      <td>0</td>\n",
       "      <td>...</td>\n",
       "      <td>0</td>\n",
       "      <td>0</td>\n",
       "      <td>0</td>\n",
       "      <td>0</td>\n",
       "      <td>0</td>\n",
       "      <td>0</td>\n",
       "      <td>0</td>\n",
       "      <td>0</td>\n",
       "      <td>0</td>\n",
       "      <td>0</td>\n",
       "    </tr>\n",
       "    <tr>\n",
       "      <th>3</th>\n",
       "      <td>0</td>\n",
       "      <td>0</td>\n",
       "      <td>0</td>\n",
       "      <td>0</td>\n",
       "      <td>0</td>\n",
       "      <td>0</td>\n",
       "      <td>0</td>\n",
       "      <td>0</td>\n",
       "      <td>0</td>\n",
       "      <td>0</td>\n",
       "      <td>...</td>\n",
       "      <td>0</td>\n",
       "      <td>0</td>\n",
       "      <td>0</td>\n",
       "      <td>0</td>\n",
       "      <td>0</td>\n",
       "      <td>0</td>\n",
       "      <td>0</td>\n",
       "      <td>0</td>\n",
       "      <td>0</td>\n",
       "      <td>0</td>\n",
       "    </tr>\n",
       "    <tr>\n",
       "      <th>4</th>\n",
       "      <td>0</td>\n",
       "      <td>0</td>\n",
       "      <td>0</td>\n",
       "      <td>0</td>\n",
       "      <td>0</td>\n",
       "      <td>0</td>\n",
       "      <td>0</td>\n",
       "      <td>0</td>\n",
       "      <td>0</td>\n",
       "      <td>0</td>\n",
       "      <td>...</td>\n",
       "      <td>0</td>\n",
       "      <td>0</td>\n",
       "      <td>0</td>\n",
       "      <td>0</td>\n",
       "      <td>0</td>\n",
       "      <td>0</td>\n",
       "      <td>0</td>\n",
       "      <td>0</td>\n",
       "      <td>0</td>\n",
       "      <td>0</td>\n",
       "    </tr>\n",
       "  </tbody>\n",
       "</table>\n",
       "<p>5 rows × 17441 columns</p>\n",
       "</div>"
      ],
      "text/plain": [
       "   000  007  009  10  100  1000  102  108  10th  11  ...  zé  álex  álvaro  \\\n",
       "0    0    0    0   0    0     0    0    0     0   0  ...   0     0       0   \n",
       "1    0    0    0   0    0     0    0    0     0   0  ...   0     0       0   \n",
       "2    0    0    0   0    0     0    0    0     0   0  ...   0     0       0   \n",
       "3    0    0    0   0    0     0    0    0     0   0  ...   0     0       0   \n",
       "4    0    0    0   0    0     0    0    0     0   0  ...   0     0       0   \n",
       "\n",
       "   ángel  émile  ömer  über  łukasz  ōarai  şeref  \n",
       "0      0      0     0     0       0      0      0  \n",
       "1      0      0     0     0       0      0      0  \n",
       "2      0      0     0     0       0      0      0  \n",
       "3      0      0     0     0       0      0      0  \n",
       "4      0      0     0     0       0      0      0  \n",
       "\n",
       "[5 rows x 17441 columns]"
      ]
     },
     "execution_count": 15,
     "metadata": {},
     "output_type": "execute_result"
    }
   ],
   "source": [
    "df = pd.DataFrame(documents_vectorized.toarray(), columns=vocabulary)\n",
    "doc_ids = df.index.values\n",
    "print('The shape of the term frequency matrix is {}'.format(df.shape))\n",
    "print('Which means it contains {} movies with {} term vocabulary'.format(*df.shape))\n",
    "df[:5]"
   ]
  },
  {
   "cell_type": "markdown",
   "id": "6b02468b",
   "metadata": {},
   "source": [
    "## Finding DF/IDF for each term "
   ]
  },
  {
   "cell_type": "code",
   "execution_count": 16,
   "id": "657142d8",
   "metadata": {},
   "outputs": [
    {
     "name": "stdout",
     "output_type": "stream",
     "text": [
      "The list below is the document frequency DF\n"
     ]
    },
    {
     "data": {
      "text/plain": [
       "000       38\n",
       "007        4\n",
       "009        1\n",
       "10        44\n",
       "100       18\n",
       "          ..\n",
       "ömer       1\n",
       "über       2\n",
       "łukasz     1\n",
       "ōarai      1\n",
       "şeref      1\n",
       "Length: 17441, dtype: int64"
      ]
     },
     "execution_count": 16,
     "metadata": {},
     "output_type": "execute_result"
    }
   ],
   "source": [
    "dfs = (df > 0).sum(axis=0)\n",
    "print('The list below is the document frequency DF')\n",
    "dfs\n",
    "# first get the document frequency DF (i.e. how many documents does each phrase appear in?): "
   ]
  },
  {
   "cell_type": "code",
   "execution_count": 17,
   "id": "d4eda1a3",
   "metadata": {},
   "outputs": [
    {
     "name": "stdout",
     "output_type": "stream",
     "text": [
      "Our total ducument is 8807 which is the total number of movie in dataset \n"
     ]
    }
   ],
   "source": [
    "N = df.shape[0]\n",
    "print('Our total ducument is {} which is the total number of movie in dataset '.format(N))"
   ]
  },
  {
   "cell_type": "markdown",
   "id": "51630f32",
   "metadata": {},
   "source": [
    "## ${idf}_t$ is calculated by $idf_t = log\\frac{N}{df}$ "
   ]
  },
  {
   "cell_type": "code",
   "execution_count": 18,
   "id": "64b1ed8a",
   "metadata": {},
   "outputs": [
    {
     "data": {
      "text/plain": [
       "000    2.365044\n",
       "007    3.342768\n",
       "009    3.944828\n",
       "10     2.301375\n",
       "100    2.689555\n",
       "dtype: float64"
      ]
     },
     "execution_count": 18,
     "metadata": {},
     "output_type": "execute_result"
    }
   ],
   "source": [
    "idfs = np.log10(N/dfs)\n",
    "idfs[:5]"
   ]
  },
  {
   "cell_type": "markdown",
   "id": "869db152",
   "metadata": {},
   "source": [
    "# **BM25 Score**\n",
    "## The formula for BM25 Score is\n",
    "\n",
    "![Screenshot 2021-06-08 at 11.46.48.png](data:image/png;base64,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)"
   ]
  },
  {
   "cell_type": "markdown",
   "id": "602923de",
   "metadata": {},
   "source": [
    "## Define all the variables"
   ]
  },
  {
   "cell_type": "code",
   "execution_count": 19,
   "id": "1163efe4",
   "metadata": {},
   "outputs": [],
   "source": [
    "k_1 = 1.2 # single value\n",
    "b = 0.8 # single value\n",
    "## considering all words in doc\n",
    "dls = [len(d.split(' ')) for d in documents] # vector\n",
    "## considering words minus stop words in doc. \n",
    "dls = df.sum(axis=1).tolist()\n",
    "avgdl = np.mean(dls) # single value"
   ]
  },
  {
   "cell_type": "markdown",
   "id": "3cee36a2",
   "metadata": {},
   "source": [
    "## Calculate BM25 Score"
   ]
  },
  {
   "cell_type": "code",
   "execution_count": 20,
   "id": "846199bc",
   "metadata": {},
   "outputs": [],
   "source": [
    "numerator = np.array((k_1 + 1) * df)\n",
    "denominator = np.array(k_1 *((1 - b) + b * (dls / avgdl))).reshape(N,1) + np.array(df)\n",
    "\n",
    "BM25_tf = numerator / denominator\n",
    "\n",
    "idfs = np.array(idfs)\n",
    "\n",
    "BM25_score = BM25_tf * idfs"
   ]
  },
  {
   "cell_type": "code",
   "execution_count": 21,
   "id": "0c8f91ca",
   "metadata": {},
   "outputs": [
    {
     "name": "stdout",
     "output_type": "stream",
     "text": [
      "The dataframe below is the BM25 scores for each documents.\n"
     ]
    },
    {
     "data": {
      "text/html": [
       "<div>\n",
       "<style scoped>\n",
       "    .dataframe tbody tr th:only-of-type {\n",
       "        vertical-align: middle;\n",
       "    }\n",
       "\n",
       "    .dataframe tbody tr th {\n",
       "        vertical-align: top;\n",
       "    }\n",
       "\n",
       "    .dataframe thead th {\n",
       "        text-align: right;\n",
       "    }\n",
       "</style>\n",
       "<table border=\"1\" class=\"dataframe\">\n",
       "  <thead>\n",
       "    <tr style=\"text-align: right;\">\n",
       "      <th></th>\n",
       "      <th>000</th>\n",
       "      <th>007</th>\n",
       "      <th>009</th>\n",
       "      <th>10</th>\n",
       "      <th>100</th>\n",
       "      <th>1000</th>\n",
       "      <th>102</th>\n",
       "      <th>108</th>\n",
       "      <th>10th</th>\n",
       "      <th>11</th>\n",
       "      <th>...</th>\n",
       "      <th>zé</th>\n",
       "      <th>álex</th>\n",
       "      <th>álvaro</th>\n",
       "      <th>ángel</th>\n",
       "      <th>émile</th>\n",
       "      <th>ömer</th>\n",
       "      <th>über</th>\n",
       "      <th>łukasz</th>\n",
       "      <th>ōarai</th>\n",
       "      <th>şeref</th>\n",
       "    </tr>\n",
       "  </thead>\n",
       "  <tbody>\n",
       "    <tr>\n",
       "      <th>0</th>\n",
       "      <td>0.0</td>\n",
       "      <td>0.0</td>\n",
       "      <td>0.0</td>\n",
       "      <td>0.0</td>\n",
       "      <td>0.0</td>\n",
       "      <td>0.0</td>\n",
       "      <td>0.0</td>\n",
       "      <td>0.0</td>\n",
       "      <td>0.0</td>\n",
       "      <td>0.0</td>\n",
       "      <td>...</td>\n",
       "      <td>0.0</td>\n",
       "      <td>0.0</td>\n",
       "      <td>0.0</td>\n",
       "      <td>0.0</td>\n",
       "      <td>0.0</td>\n",
       "      <td>0.0</td>\n",
       "      <td>0.0</td>\n",
       "      <td>0.0</td>\n",
       "      <td>0.0</td>\n",
       "      <td>0.0</td>\n",
       "    </tr>\n",
       "    <tr>\n",
       "      <th>1</th>\n",
       "      <td>0.0</td>\n",
       "      <td>0.0</td>\n",
       "      <td>0.0</td>\n",
       "      <td>0.0</td>\n",
       "      <td>0.0</td>\n",
       "      <td>0.0</td>\n",
       "      <td>0.0</td>\n",
       "      <td>0.0</td>\n",
       "      <td>0.0</td>\n",
       "      <td>0.0</td>\n",
       "      <td>...</td>\n",
       "      <td>0.0</td>\n",
       "      <td>0.0</td>\n",
       "      <td>0.0</td>\n",
       "      <td>0.0</td>\n",
       "      <td>0.0</td>\n",
       "      <td>0.0</td>\n",
       "      <td>0.0</td>\n",
       "      <td>0.0</td>\n",
       "      <td>0.0</td>\n",
       "      <td>0.0</td>\n",
       "    </tr>\n",
       "    <tr>\n",
       "      <th>2</th>\n",
       "      <td>0.0</td>\n",
       "      <td>0.0</td>\n",
       "      <td>0.0</td>\n",
       "      <td>0.0</td>\n",
       "      <td>0.0</td>\n",
       "      <td>0.0</td>\n",
       "      <td>0.0</td>\n",
       "      <td>0.0</td>\n",
       "      <td>0.0</td>\n",
       "      <td>0.0</td>\n",
       "      <td>...</td>\n",
       "      <td>0.0</td>\n",
       "      <td>0.0</td>\n",
       "      <td>0.0</td>\n",
       "      <td>0.0</td>\n",
       "      <td>0.0</td>\n",
       "      <td>0.0</td>\n",
       "      <td>0.0</td>\n",
       "      <td>0.0</td>\n",
       "      <td>0.0</td>\n",
       "      <td>0.0</td>\n",
       "    </tr>\n",
       "    <tr>\n",
       "      <th>3</th>\n",
       "      <td>0.0</td>\n",
       "      <td>0.0</td>\n",
       "      <td>0.0</td>\n",
       "      <td>0.0</td>\n",
       "      <td>0.0</td>\n",
       "      <td>0.0</td>\n",
       "      <td>0.0</td>\n",
       "      <td>0.0</td>\n",
       "      <td>0.0</td>\n",
       "      <td>0.0</td>\n",
       "      <td>...</td>\n",
       "      <td>0.0</td>\n",
       "      <td>0.0</td>\n",
       "      <td>0.0</td>\n",
       "      <td>0.0</td>\n",
       "      <td>0.0</td>\n",
       "      <td>0.0</td>\n",
       "      <td>0.0</td>\n",
       "      <td>0.0</td>\n",
       "      <td>0.0</td>\n",
       "      <td>0.0</td>\n",
       "    </tr>\n",
       "    <tr>\n",
       "      <th>4</th>\n",
       "      <td>0.0</td>\n",
       "      <td>0.0</td>\n",
       "      <td>0.0</td>\n",
       "      <td>0.0</td>\n",
       "      <td>0.0</td>\n",
       "      <td>0.0</td>\n",
       "      <td>0.0</td>\n",
       "      <td>0.0</td>\n",
       "      <td>0.0</td>\n",
       "      <td>0.0</td>\n",
       "      <td>...</td>\n",
       "      <td>0.0</td>\n",
       "      <td>0.0</td>\n",
       "      <td>0.0</td>\n",
       "      <td>0.0</td>\n",
       "      <td>0.0</td>\n",
       "      <td>0.0</td>\n",
       "      <td>0.0</td>\n",
       "      <td>0.0</td>\n",
       "      <td>0.0</td>\n",
       "      <td>0.0</td>\n",
       "    </tr>\n",
       "    <tr>\n",
       "      <th>...</th>\n",
       "      <td>...</td>\n",
       "      <td>...</td>\n",
       "      <td>...</td>\n",
       "      <td>...</td>\n",
       "      <td>...</td>\n",
       "      <td>...</td>\n",
       "      <td>...</td>\n",
       "      <td>...</td>\n",
       "      <td>...</td>\n",
       "      <td>...</td>\n",
       "      <td>...</td>\n",
       "      <td>...</td>\n",
       "      <td>...</td>\n",
       "      <td>...</td>\n",
       "      <td>...</td>\n",
       "      <td>...</td>\n",
       "      <td>...</td>\n",
       "      <td>...</td>\n",
       "      <td>...</td>\n",
       "      <td>...</td>\n",
       "      <td>...</td>\n",
       "    </tr>\n",
       "    <tr>\n",
       "      <th>8802</th>\n",
       "      <td>0.0</td>\n",
       "      <td>0.0</td>\n",
       "      <td>0.0</td>\n",
       "      <td>0.0</td>\n",
       "      <td>0.0</td>\n",
       "      <td>0.0</td>\n",
       "      <td>0.0</td>\n",
       "      <td>0.0</td>\n",
       "      <td>0.0</td>\n",
       "      <td>0.0</td>\n",
       "      <td>...</td>\n",
       "      <td>0.0</td>\n",
       "      <td>0.0</td>\n",
       "      <td>0.0</td>\n",
       "      <td>0.0</td>\n",
       "      <td>0.0</td>\n",
       "      <td>0.0</td>\n",
       "      <td>0.0</td>\n",
       "      <td>0.0</td>\n",
       "      <td>0.0</td>\n",
       "      <td>0.0</td>\n",
       "    </tr>\n",
       "    <tr>\n",
       "      <th>8803</th>\n",
       "      <td>0.0</td>\n",
       "      <td>0.0</td>\n",
       "      <td>0.0</td>\n",
       "      <td>0.0</td>\n",
       "      <td>0.0</td>\n",
       "      <td>0.0</td>\n",
       "      <td>0.0</td>\n",
       "      <td>0.0</td>\n",
       "      <td>0.0</td>\n",
       "      <td>0.0</td>\n",
       "      <td>...</td>\n",
       "      <td>0.0</td>\n",
       "      <td>0.0</td>\n",
       "      <td>0.0</td>\n",
       "      <td>0.0</td>\n",
       "      <td>0.0</td>\n",
       "      <td>0.0</td>\n",
       "      <td>0.0</td>\n",
       "      <td>0.0</td>\n",
       "      <td>0.0</td>\n",
       "      <td>0.0</td>\n",
       "    </tr>\n",
       "    <tr>\n",
       "      <th>8804</th>\n",
       "      <td>0.0</td>\n",
       "      <td>0.0</td>\n",
       "      <td>0.0</td>\n",
       "      <td>0.0</td>\n",
       "      <td>0.0</td>\n",
       "      <td>0.0</td>\n",
       "      <td>0.0</td>\n",
       "      <td>0.0</td>\n",
       "      <td>0.0</td>\n",
       "      <td>0.0</td>\n",
       "      <td>...</td>\n",
       "      <td>0.0</td>\n",
       "      <td>0.0</td>\n",
       "      <td>0.0</td>\n",
       "      <td>0.0</td>\n",
       "      <td>0.0</td>\n",
       "      <td>0.0</td>\n",
       "      <td>0.0</td>\n",
       "      <td>0.0</td>\n",
       "      <td>0.0</td>\n",
       "      <td>0.0</td>\n",
       "    </tr>\n",
       "    <tr>\n",
       "      <th>8805</th>\n",
       "      <td>0.0</td>\n",
       "      <td>0.0</td>\n",
       "      <td>0.0</td>\n",
       "      <td>0.0</td>\n",
       "      <td>0.0</td>\n",
       "      <td>0.0</td>\n",
       "      <td>0.0</td>\n",
       "      <td>0.0</td>\n",
       "      <td>0.0</td>\n",
       "      <td>0.0</td>\n",
       "      <td>...</td>\n",
       "      <td>0.0</td>\n",
       "      <td>0.0</td>\n",
       "      <td>0.0</td>\n",
       "      <td>0.0</td>\n",
       "      <td>0.0</td>\n",
       "      <td>0.0</td>\n",
       "      <td>0.0</td>\n",
       "      <td>0.0</td>\n",
       "      <td>0.0</td>\n",
       "      <td>0.0</td>\n",
       "    </tr>\n",
       "    <tr>\n",
       "      <th>8806</th>\n",
       "      <td>0.0</td>\n",
       "      <td>0.0</td>\n",
       "      <td>0.0</td>\n",
       "      <td>0.0</td>\n",
       "      <td>0.0</td>\n",
       "      <td>0.0</td>\n",
       "      <td>0.0</td>\n",
       "      <td>0.0</td>\n",
       "      <td>0.0</td>\n",
       "      <td>0.0</td>\n",
       "      <td>...</td>\n",
       "      <td>0.0</td>\n",
       "      <td>0.0</td>\n",
       "      <td>0.0</td>\n",
       "      <td>0.0</td>\n",
       "      <td>0.0</td>\n",
       "      <td>0.0</td>\n",
       "      <td>0.0</td>\n",
       "      <td>0.0</td>\n",
       "      <td>0.0</td>\n",
       "      <td>0.0</td>\n",
       "    </tr>\n",
       "  </tbody>\n",
       "</table>\n",
       "<p>8807 rows × 17441 columns</p>\n",
       "</div>"
      ],
      "text/plain": [
       "      000  007  009   10  100  1000  102  108  10th   11  ...   zé  álex  \\\n",
       "0     0.0  0.0  0.0  0.0  0.0   0.0  0.0  0.0   0.0  0.0  ...  0.0   0.0   \n",
       "1     0.0  0.0  0.0  0.0  0.0   0.0  0.0  0.0   0.0  0.0  ...  0.0   0.0   \n",
       "2     0.0  0.0  0.0  0.0  0.0   0.0  0.0  0.0   0.0  0.0  ...  0.0   0.0   \n",
       "3     0.0  0.0  0.0  0.0  0.0   0.0  0.0  0.0   0.0  0.0  ...  0.0   0.0   \n",
       "4     0.0  0.0  0.0  0.0  0.0   0.0  0.0  0.0   0.0  0.0  ...  0.0   0.0   \n",
       "...   ...  ...  ...  ...  ...   ...  ...  ...   ...  ...  ...  ...   ...   \n",
       "8802  0.0  0.0  0.0  0.0  0.0   0.0  0.0  0.0   0.0  0.0  ...  0.0   0.0   \n",
       "8803  0.0  0.0  0.0  0.0  0.0   0.0  0.0  0.0   0.0  0.0  ...  0.0   0.0   \n",
       "8804  0.0  0.0  0.0  0.0  0.0   0.0  0.0  0.0   0.0  0.0  ...  0.0   0.0   \n",
       "8805  0.0  0.0  0.0  0.0  0.0   0.0  0.0  0.0   0.0  0.0  ...  0.0   0.0   \n",
       "8806  0.0  0.0  0.0  0.0  0.0   0.0  0.0  0.0   0.0  0.0  ...  0.0   0.0   \n",
       "\n",
       "      álvaro  ángel  émile  ömer  über  łukasz  ōarai  şeref  \n",
       "0        0.0    0.0    0.0   0.0   0.0     0.0    0.0    0.0  \n",
       "1        0.0    0.0    0.0   0.0   0.0     0.0    0.0    0.0  \n",
       "2        0.0    0.0    0.0   0.0   0.0     0.0    0.0    0.0  \n",
       "3        0.0    0.0    0.0   0.0   0.0     0.0    0.0    0.0  \n",
       "4        0.0    0.0    0.0   0.0   0.0     0.0    0.0    0.0  \n",
       "...      ...    ...    ...   ...   ...     ...    ...    ...  \n",
       "8802     0.0    0.0    0.0   0.0   0.0     0.0    0.0    0.0  \n",
       "8803     0.0    0.0    0.0   0.0   0.0     0.0    0.0    0.0  \n",
       "8804     0.0    0.0    0.0   0.0   0.0     0.0    0.0    0.0  \n",
       "8805     0.0    0.0    0.0   0.0   0.0     0.0    0.0    0.0  \n",
       "8806     0.0    0.0    0.0   0.0   0.0     0.0    0.0    0.0  \n",
       "\n",
       "[8807 rows x 17441 columns]"
      ]
     },
     "execution_count": 21,
     "metadata": {},
     "output_type": "execute_result"
    }
   ],
   "source": [
    "bm25_idf = pd.DataFrame(BM25_score, columns=vocabulary)\n",
    "print('The dataframe below is the BM25 scores for each documents.')\n",
    "bm25_idf"
   ]
  },
  {
   "cell_type": "markdown",
   "id": "1cce3863",
   "metadata": {},
   "source": [
    "## Create a function cleaning query"
   ]
  },
  {
   "cell_type": "code",
   "execution_count": 22,
   "id": "d66a7c89",
   "metadata": {},
   "outputs": [],
   "source": [
    "def clean_query(query):\n",
    "    cleaned_query=word_tokenize(query)\n",
    "    specific_words=['want','watch','see','about','relate','I','movie','TV Show'] #specific words that user might used which will not related to movie\n",
    "    cleaned_query=[word for word in cleaned_query if word not in stopwords.words('english')]\n",
    "    cleaned_query=[word for word in cleaned_query if word not in specific_words]\n",
    "    cleaned_query=[word.lower() for word in cleaned_query if word.isalpha()]\n",
    "    return cleaned_query"
   ]
  },
  {
   "cell_type": "code",
   "execution_count": 23,
   "id": "19cc7746",
   "metadata": {},
   "outputs": [],
   "source": [
    "#example for a query\n",
    "cleaned_query=clean_query('I want to watch a movie about a father nears the end of his life')"
   ]
  },
  {
   "cell_type": "markdown",
   "id": "bb89ab89",
   "metadata": {},
   "source": [
    "## Find the score for the query and sorted from large to small"
   ]
  },
  {
   "cell_type": "code",
   "execution_count": 24,
   "id": "a7a7a1bb",
   "metadata": {},
   "outputs": [],
   "source": [
    "def score(query):\n",
    "    cleaned_query=clean_query(query)\n",
    "    cleaned_query_only_df = bm25_idf[cleaned_query]\n",
    "    score_q_d = cleaned_query_only_df.sum(axis=1)\n",
    "    sorted_score=sorted(zip(documents,score_q_d.values), key = lambda tup:tup[1], reverse=True)\n",
    "    result = pd.DataFrame(sorted_score)\n",
    "    return result\n",
    "    "
   ]
  },
  {
   "cell_type": "code",
   "execution_count": 25,
   "id": "d5ea5b06",
   "metadata": {},
   "outputs": [],
   "source": [
    "#score(cleaned_query)[0][1]"
   ]
  },
  {
   "cell_type": "code",
   "execution_count": 26,
   "id": "a47e5600",
   "metadata": {},
   "outputs": [],
   "source": [
    "#for n in range(2):\n",
    "#    movie=(dataset_clean.loc[dataset_clean['description'].str.contains(score(cleaned_query)[0][n])])\n",
    "#    print('The {} relevant movie with the query you given is :' .format(str(n+1)+(\"th\" if 3<=n%100<=20 else {0:\"st\",1:\"nd\",2:\"rd\"}.get(n%10, \"th\"))))\n",
    "#    display(movie)"
   ]
  },
  {
   "cell_type": "markdown",
   "id": "f11b3a5e",
   "metadata": {},
   "source": [
    "## Create a function for recommondation"
   ]
  },
  {
   "cell_type": "code",
   "execution_count": 36,
   "id": "0c9e930c",
   "metadata": {},
   "outputs": [],
   "source": [
    "def recommondation(query,n):\n",
    "    score(query)\n",
    "    for i in range(n):\n",
    "        movie=(dataset_clean.loc[dataset_clean['description'].str.contains(score(query)[0][i])])\n",
    "        print('The {} relevant movie with the query you given is :' .format(str(i+1)+(\"th\" if 3<=n%100<=20 else {0:\"st\",1:\"nd\",2:\"rd\"}.get(n%10, \"th\"))))\n",
    "        display(movie)\n",
    "    "
   ]
  },
  {
   "cell_type": "code",
   "execution_count": 39,
   "id": "b75786df",
   "metadata": {},
   "outputs": [
    {
     "name": "stdout",
     "output_type": "stream",
     "text": [
      "The 1th relevant movie with the query you given is :\n"
     ]
    },
    {
     "data": {
      "text/html": [
       "<div>\n",
       "<style scoped>\n",
       "    .dataframe tbody tr th:only-of-type {\n",
       "        vertical-align: middle;\n",
       "    }\n",
       "\n",
       "    .dataframe tbody tr th {\n",
       "        vertical-align: top;\n",
       "    }\n",
       "\n",
       "    .dataframe thead th {\n",
       "        text-align: right;\n",
       "    }\n",
       "</style>\n",
       "<table border=\"1\" class=\"dataframe\">\n",
       "  <thead>\n",
       "    <tr style=\"text-align: right;\">\n",
       "      <th></th>\n",
       "      <th>title</th>\n",
       "      <th>director</th>\n",
       "      <th>country</th>\n",
       "      <th>release_year</th>\n",
       "      <th>description</th>\n",
       "    </tr>\n",
       "  </thead>\n",
       "  <tbody>\n",
       "    <tr>\n",
       "      <th>1972</th>\n",
       "      <td>Black</td>\n",
       "      <td>Raja Chanda</td>\n",
       "      <td>India</td>\n",
       "      <td>2015</td>\n",
       "      <td>a small-town man take dangerous gangster aveng...</td>\n",
       "    </tr>\n",
       "  </tbody>\n",
       "</table>\n",
       "</div>"
      ],
      "text/plain": [
       "      title     director country  release_year  \\\n",
       "1972  Black  Raja Chanda   India          2015   \n",
       "\n",
       "                                            description  \n",
       "1972  a small-town man take dangerous gangster aveng...  "
      ]
     },
     "metadata": {},
     "output_type": "display_data"
    },
    {
     "name": "stdout",
     "output_type": "stream",
     "text": [
      "The 2th relevant movie with the query you given is :\n"
     ]
    },
    {
     "data": {
      "text/html": [
       "<div>\n",
       "<style scoped>\n",
       "    .dataframe tbody tr th:only-of-type {\n",
       "        vertical-align: middle;\n",
       "    }\n",
       "\n",
       "    .dataframe tbody tr th {\n",
       "        vertical-align: top;\n",
       "    }\n",
       "\n",
       "    .dataframe thead th {\n",
       "        text-align: right;\n",
       "    }\n",
       "</style>\n",
       "<table border=\"1\" class=\"dataframe\">\n",
       "  <thead>\n",
       "    <tr style=\"text-align: right;\">\n",
       "      <th></th>\n",
       "      <th>title</th>\n",
       "      <th>director</th>\n",
       "      <th>country</th>\n",
       "      <th>release_year</th>\n",
       "      <th>description</th>\n",
       "    </tr>\n",
       "  </thead>\n",
       "  <tbody>\n",
       "    <tr>\n",
       "      <th>0</th>\n",
       "      <td>Dick Johnson Is Dead</td>\n",
       "      <td>Kirsten Johnson</td>\n",
       "      <td>United States</td>\n",
       "      <td>2020</td>\n",
       "      <td>as father near end life, filmmaker kirsten joh...</td>\n",
       "    </tr>\n",
       "  </tbody>\n",
       "</table>\n",
       "</div>"
      ],
      "text/plain": [
       "                  title         director        country  release_year  \\\n",
       "0  Dick Johnson Is Dead  Kirsten Johnson  United States          2020   \n",
       "\n",
       "                                         description  \n",
       "0  as father near end life, filmmaker kirsten joh...  "
      ]
     },
     "metadata": {},
     "output_type": "display_data"
    },
    {
     "name": "stdout",
     "output_type": "stream",
     "text": [
      "The 3th relevant movie with the query you given is :\n"
     ]
    },
    {
     "data": {
      "text/html": [
       "<div>\n",
       "<style scoped>\n",
       "    .dataframe tbody tr th:only-of-type {\n",
       "        vertical-align: middle;\n",
       "    }\n",
       "\n",
       "    .dataframe tbody tr th {\n",
       "        vertical-align: top;\n",
       "    }\n",
       "\n",
       "    .dataframe thead th {\n",
       "        text-align: right;\n",
       "    }\n",
       "</style>\n",
       "<table border=\"1\" class=\"dataframe\">\n",
       "  <thead>\n",
       "    <tr style=\"text-align: right;\">\n",
       "      <th></th>\n",
       "      <th>title</th>\n",
       "      <th>director</th>\n",
       "      <th>country</th>\n",
       "      <th>release_year</th>\n",
       "      <th>description</th>\n",
       "    </tr>\n",
       "  </thead>\n",
       "  <tbody>\n",
       "    <tr>\n",
       "      <th>4718</th>\n",
       "      <td>Like Father</td>\n",
       "      <td>Lauren Miller Rogen</td>\n",
       "      <td>United States</td>\n",
       "      <td>2018</td>\n",
       "      <td>after leave altar, workaholic advertise execut...</td>\n",
       "    </tr>\n",
       "  </tbody>\n",
       "</table>\n",
       "</div>"
      ],
      "text/plain": [
       "            title             director        country  release_year  \\\n",
       "4718  Like Father  Lauren Miller Rogen  United States          2018   \n",
       "\n",
       "                                            description  \n",
       "4718  after leave altar, workaholic advertise execut...  "
      ]
     },
     "metadata": {},
     "output_type": "display_data"
    }
   ],
   "source": [
    "recommondation('I want to watch a movie about a father nears the end of his life',3)"
   ]
  },
  {
   "cell_type": "markdown",
   "id": "6417ecf4",
   "metadata": {},
   "source": [
    "# Final Testing"
   ]
  },
  {
   "cell_type": "code",
   "execution_count": 44,
   "id": "b9fbb578",
   "metadata": {},
   "outputs": [
    {
     "name": "stdout",
     "output_type": "stream",
     "text": [
      "The 1th relevant movie with the query you given is :\n"
     ]
    },
    {
     "data": {
      "text/html": [
       "<div>\n",
       "<style scoped>\n",
       "    .dataframe tbody tr th:only-of-type {\n",
       "        vertical-align: middle;\n",
       "    }\n",
       "\n",
       "    .dataframe tbody tr th {\n",
       "        vertical-align: top;\n",
       "    }\n",
       "\n",
       "    .dataframe thead th {\n",
       "        text-align: right;\n",
       "    }\n",
       "</style>\n",
       "<table border=\"1\" class=\"dataframe\">\n",
       "  <thead>\n",
       "    <tr style=\"text-align: right;\">\n",
       "      <th></th>\n",
       "      <th>title</th>\n",
       "      <th>director</th>\n",
       "      <th>country</th>\n",
       "      <th>release_year</th>\n",
       "      <th>description</th>\n",
       "    </tr>\n",
       "  </thead>\n",
       "  <tbody>\n",
       "    <tr>\n",
       "      <th>8323</th>\n",
       "      <td>The Good Catholic</td>\n",
       "      <td>Paul Shoulberg</td>\n",
       "      <td>United States</td>\n",
       "      <td>2017</td>\n",
       "      <td>a young priest’s faith test find attract woman...</td>\n",
       "    </tr>\n",
       "  </tbody>\n",
       "</table>\n",
       "</div>"
      ],
      "text/plain": [
       "                  title        director        country  release_year  \\\n",
       "8323  The Good Catholic  Paul Shoulberg  United States          2017   \n",
       "\n",
       "                                            description  \n",
       "8323  a young priest’s faith test find attract woman...  "
      ]
     },
     "metadata": {},
     "output_type": "display_data"
    },
    {
     "name": "stdout",
     "output_type": "stream",
     "text": [
      "The 2th relevant movie with the query you given is :\n"
     ]
    },
    {
     "data": {
      "text/html": [
       "<div>\n",
       "<style scoped>\n",
       "    .dataframe tbody tr th:only-of-type {\n",
       "        vertical-align: middle;\n",
       "    }\n",
       "\n",
       "    .dataframe tbody tr th {\n",
       "        vertical-align: top;\n",
       "    }\n",
       "\n",
       "    .dataframe thead th {\n",
       "        text-align: right;\n",
       "    }\n",
       "</style>\n",
       "<table border=\"1\" class=\"dataframe\">\n",
       "  <thead>\n",
       "    <tr style=\"text-align: right;\">\n",
       "      <th></th>\n",
       "      <th>title</th>\n",
       "      <th>director</th>\n",
       "      <th>country</th>\n",
       "      <th>release_year</th>\n",
       "      <th>description</th>\n",
       "    </tr>\n",
       "  </thead>\n",
       "  <tbody>\n",
       "    <tr>\n",
       "      <th>4909</th>\n",
       "      <td>Holy Goalie</td>\n",
       "      <td>Curro Velázquez</td>\n",
       "      <td>Spain</td>\n",
       "      <td>2017</td>\n",
       "      <td>a young priest coach team uncoordinated monks ...</td>\n",
       "    </tr>\n",
       "  </tbody>\n",
       "</table>\n",
       "</div>"
      ],
      "text/plain": [
       "            title         director country  release_year  \\\n",
       "4909  Holy Goalie  Curro Velázquez   Spain          2017   \n",
       "\n",
       "                                            description  \n",
       "4909  a young priest coach team uncoordinated monks ...  "
      ]
     },
     "metadata": {},
     "output_type": "display_data"
    },
    {
     "name": "stdout",
     "output_type": "stream",
     "text": [
      "The 3th relevant movie with the query you given is :\n"
     ]
    },
    {
     "data": {
      "text/html": [
       "<div>\n",
       "<style scoped>\n",
       "    .dataframe tbody tr th:only-of-type {\n",
       "        vertical-align: middle;\n",
       "    }\n",
       "\n",
       "    .dataframe tbody tr th {\n",
       "        vertical-align: top;\n",
       "    }\n",
       "\n",
       "    .dataframe thead th {\n",
       "        text-align: right;\n",
       "    }\n",
       "</style>\n",
       "<table border=\"1\" class=\"dataframe\">\n",
       "  <thead>\n",
       "    <tr style=\"text-align: right;\">\n",
       "      <th></th>\n",
       "      <th>title</th>\n",
       "      <th>director</th>\n",
       "      <th>country</th>\n",
       "      <th>release_year</th>\n",
       "      <th>description</th>\n",
       "    </tr>\n",
       "  </thead>\n",
       "  <tbody>\n",
       "    <tr>\n",
       "      <th>8408</th>\n",
       "      <td>The lynx</td>\n",
       "      <td>Stanisław Różewicz</td>\n",
       "      <td>Poland</td>\n",
       "      <td>1982</td>\n",
       "      <td>a priest's duties test young guerrilla ask abs...</td>\n",
       "    </tr>\n",
       "  </tbody>\n",
       "</table>\n",
       "</div>"
      ],
      "text/plain": [
       "         title            director country  release_year  \\\n",
       "8408  The lynx  Stanisław Różewicz  Poland          1982   \n",
       "\n",
       "                                            description  \n",
       "8408  a priest's duties test young guerrilla ask abs...  "
      ]
     },
     "metadata": {},
     "output_type": "display_data"
    },
    {
     "name": "stdout",
     "output_type": "stream",
     "text": [
      "The 4th relevant movie with the query you given is :\n"
     ]
    },
    {
     "data": {
      "text/html": [
       "<div>\n",
       "<style scoped>\n",
       "    .dataframe tbody tr th:only-of-type {\n",
       "        vertical-align: middle;\n",
       "    }\n",
       "\n",
       "    .dataframe tbody tr th {\n",
       "        vertical-align: top;\n",
       "    }\n",
       "\n",
       "    .dataframe thead th {\n",
       "        text-align: right;\n",
       "    }\n",
       "</style>\n",
       "<table border=\"1\" class=\"dataframe\">\n",
       "  <thead>\n",
       "    <tr style=\"text-align: right;\">\n",
       "      <th></th>\n",
       "      <th>title</th>\n",
       "      <th>director</th>\n",
       "      <th>country</th>\n",
       "      <th>release_year</th>\n",
       "      <th>description</th>\n",
       "    </tr>\n",
       "  </thead>\n",
       "  <tbody>\n",
       "    <tr>\n",
       "      <th>8548</th>\n",
       "      <td>The Vatican Tapes</td>\n",
       "      <td>Mark Neveldine</td>\n",
       "      <td>United States</td>\n",
       "      <td>2015</td>\n",
       "      <td>a young woman hospitalize infect wind become p...</td>\n",
       "    </tr>\n",
       "  </tbody>\n",
       "</table>\n",
       "</div>"
      ],
      "text/plain": [
       "                  title        director        country  release_year  \\\n",
       "8548  The Vatican Tapes  Mark Neveldine  United States          2015   \n",
       "\n",
       "                                            description  \n",
       "8548  a young woman hospitalize infect wind become p...  "
      ]
     },
     "metadata": {},
     "output_type": "display_data"
    }
   ],
   "source": [
    "#Please enter what kind of movie are you looking for:\n",
    "query = 'I want to watch a movie about young priest'\n",
    "#Please type how many movies do you want to recommond\n",
    "n=4\n",
    "recommondation(query,n)"
   ]
  },
  {
   "cell_type": "code",
   "execution_count": null,
   "id": "a1ce06ec",
   "metadata": {},
   "outputs": [],
   "source": []
  }
 ],
 "metadata": {
  "kernelspec": {
   "display_name": "Python 3 (ipykernel)",
   "language": "python",
   "name": "python3"
  },
  "language_info": {
   "codemirror_mode": {
    "name": "ipython",
    "version": 3
   },
   "file_extension": ".py",
   "mimetype": "text/x-python",
   "name": "python",
   "nbconvert_exporter": "python",
   "pygments_lexer": "ipython3",
   "version": "3.9.10"
  }
 },
 "nbformat": 4,
 "nbformat_minor": 5
}
